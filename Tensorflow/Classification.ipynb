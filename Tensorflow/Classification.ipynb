{
 "cells": [
  {
   "cell_type": "code",
   "execution_count": 1,
   "metadata": {},
   "outputs": [],
   "source": [
    "import tensorflow as tf\n",
    "import pandas as pd"
   ]
  },
  {
   "cell_type": "code",
   "execution_count": 2,
   "metadata": {},
   "outputs": [],
   "source": [
    "csv_column_name = ['SepalLength','SepalWidth','PetalLength','PetalWidth','Species']\n",
    "Species = ['Setosa', 'Versicolor','Virginica']"
   ]
  },
  {
   "cell_type": "code",
   "execution_count": 3,
   "metadata": {},
   "outputs": [],
   "source": [
    "train_path = tf.keras.utils.get_file(\"iris_training.csv\", \"https://storage.googleapis.com/download.tensorflow.org/data/iris_training.csv\")\n",
    "test_path = tf.keras.utils.get_file(\"iris_training.csv\", \"https://storage.googleapis.com/download.tensorflow.org/data/iris_test.csv\")"
   ]
  },
  {
   "cell_type": "code",
   "execution_count": 4,
   "metadata": {},
   "outputs": [],
   "source": [
    "train = pd.read_csv(train_path, names=csv_column_name, header=0)\n",
    "test = pd.read_csv(test_path, names=csv_column_name, header=0)"
   ]
  },
  {
   "cell_type": "code",
   "execution_count": 5,
   "metadata": {},
   "outputs": [
    {
     "data": {
      "text/html": [
       "<div>\n",
       "<style scoped>\n",
       "    .dataframe tbody tr th:only-of-type {\n",
       "        vertical-align: middle;\n",
       "    }\n",
       "\n",
       "    .dataframe tbody tr th {\n",
       "        vertical-align: top;\n",
       "    }\n",
       "\n",
       "    .dataframe thead th {\n",
       "        text-align: right;\n",
       "    }\n",
       "</style>\n",
       "<table border=\"1\" class=\"dataframe\">\n",
       "  <thead>\n",
       "    <tr style=\"text-align: right;\">\n",
       "      <th></th>\n",
       "      <th>SepalLength</th>\n",
       "      <th>SepalWidth</th>\n",
       "      <th>PetalLength</th>\n",
       "      <th>PetalWidth</th>\n",
       "      <th>Species</th>\n",
       "    </tr>\n",
       "  </thead>\n",
       "  <tbody>\n",
       "    <tr>\n",
       "      <th>0</th>\n",
       "      <td>6.4</td>\n",
       "      <td>2.8</td>\n",
       "      <td>5.6</td>\n",
       "      <td>2.2</td>\n",
       "      <td>2</td>\n",
       "    </tr>\n",
       "    <tr>\n",
       "      <th>1</th>\n",
       "      <td>5.0</td>\n",
       "      <td>2.3</td>\n",
       "      <td>3.3</td>\n",
       "      <td>1.0</td>\n",
       "      <td>1</td>\n",
       "    </tr>\n",
       "    <tr>\n",
       "      <th>2</th>\n",
       "      <td>4.9</td>\n",
       "      <td>2.5</td>\n",
       "      <td>4.5</td>\n",
       "      <td>1.7</td>\n",
       "      <td>2</td>\n",
       "    </tr>\n",
       "    <tr>\n",
       "      <th>3</th>\n",
       "      <td>4.9</td>\n",
       "      <td>3.1</td>\n",
       "      <td>1.5</td>\n",
       "      <td>0.1</td>\n",
       "      <td>0</td>\n",
       "    </tr>\n",
       "    <tr>\n",
       "      <th>4</th>\n",
       "      <td>5.7</td>\n",
       "      <td>3.8</td>\n",
       "      <td>1.7</td>\n",
       "      <td>0.3</td>\n",
       "      <td>0</td>\n",
       "    </tr>\n",
       "  </tbody>\n",
       "</table>\n",
       "</div>"
      ],
      "text/plain": [
       "   SepalLength  SepalWidth  PetalLength  PetalWidth  Species\n",
       "0          6.4         2.8          5.6         2.2        2\n",
       "1          5.0         2.3          3.3         1.0        1\n",
       "2          4.9         2.5          4.5         1.7        2\n",
       "3          4.9         3.1          1.5         0.1        0\n",
       "4          5.7         3.8          1.7         0.3        0"
      ]
     },
     "execution_count": 5,
     "metadata": {},
     "output_type": "execute_result"
    }
   ],
   "source": [
    "train.head()"
   ]
  },
  {
   "cell_type": "code",
   "execution_count": 6,
   "metadata": {},
   "outputs": [
    {
     "data": {
      "text/plain": [
       "0    2\n",
       "1    1\n",
       "2    2\n",
       "3    0\n",
       "4    0\n",
       "Name: Species, dtype: int64"
      ]
     },
     "execution_count": 6,
     "metadata": {},
     "output_type": "execute_result"
    }
   ],
   "source": [
    "train_y = train.pop('Species')\n",
    "test_y = test.pop('Species')\n",
    "train_y.head()"
   ]
  },
  {
   "cell_type": "code",
   "execution_count": 7,
   "metadata": {},
   "outputs": [
    {
     "data": {
      "text/plain": [
       "(120, 4)"
      ]
     },
     "execution_count": 7,
     "metadata": {},
     "output_type": "execute_result"
    }
   ],
   "source": [
    "train.shape"
   ]
  },
  {
   "cell_type": "code",
   "execution_count": 8,
   "metadata": {},
   "outputs": [],
   "source": [
    "def input_fn(features, labels, training = True, batch_size=256):\n",
    "    # convert inputs to a dataset\n",
    "    dataset = tf.data.Dataset.from_tensor_slices((dict(features),labels))\n",
    "    \n",
    "    # shuffle and report if it is in training mode\n",
    "    if training:\n",
    "        dataset = dataset.shuffle(1000).repeat()\n",
    "        \n",
    "    return dataset.batch(batch_size)"
   ]
  },
  {
   "cell_type": "code",
   "execution_count": 9,
   "metadata": {},
   "outputs": [
    {
     "name": "stdout",
     "output_type": "stream",
     "text": [
      "[NumericColumn(key='SepalLength', shape=(1,), default_value=None, dtype=tf.float32, normalizer_fn=None), NumericColumn(key='SepalWidth', shape=(1,), default_value=None, dtype=tf.float32, normalizer_fn=None), NumericColumn(key='PetalLength', shape=(1,), default_value=None, dtype=tf.float32, normalizer_fn=None), NumericColumn(key='PetalWidth', shape=(1,), default_value=None, dtype=tf.float32, normalizer_fn=None)]\n"
     ]
    }
   ],
   "source": [
    "feature_columns = []\n",
    "for key in train.keys():\n",
    "    feature_columns.append(tf.feature_column.numeric_column(key=key))\n",
    "print(feature_columns)"
   ]
  },
  {
   "cell_type": "code",
   "execution_count": 10,
   "metadata": {},
   "outputs": [
    {
     "name": "stdout",
     "output_type": "stream",
     "text": [
      "INFO:tensorflow:Using default config.\n",
      "WARNING:tensorflow:Using temporary folder as model directory: C:\\Users\\mdmuz\\AppData\\Local\\Temp\\tmp_vfcb0_6\n",
      "INFO:tensorflow:Using config: {'_model_dir': 'C:\\\\Users\\\\mdmuz\\\\AppData\\\\Local\\\\Temp\\\\tmp_vfcb0_6', '_tf_random_seed': None, '_save_summary_steps': 100, '_save_checkpoints_steps': None, '_save_checkpoints_secs': 600, '_session_config': allow_soft_placement: true\n",
      "graph_options {\n",
      "  rewrite_options {\n",
      "    meta_optimizer_iterations: ONE\n",
      "  }\n",
      "}\n",
      ", '_keep_checkpoint_max': 5, '_keep_checkpoint_every_n_hours': 10000, '_log_step_count_steps': 100, '_train_distribute': None, '_device_fn': None, '_protocol': None, '_eval_distribute': None, '_experimental_distribute': None, '_experimental_max_worker_delay_secs': None, '_session_creation_timeout_secs': 7200, '_checkpoint_save_graph_def': True, '_service': None, '_cluster_spec': ClusterSpec({}), '_task_type': 'worker', '_task_id': 0, '_global_id_in_cluster': 0, '_master': '', '_evaluation_master': '', '_is_chief': True, '_num_ps_replicas': 0, '_num_worker_replicas': 1}\n"
     ]
    }
   ],
   "source": [
    "# Building Model\n",
    "\n",
    "classifier = tf.estimator.DNNClassifier(feature_columns= feature_columns, hidden_units=[30,15,10], n_classes=3)"
   ]
  },
  {
   "cell_type": "code",
   "execution_count": 11,
   "metadata": {},
   "outputs": [
    {
     "name": "stdout",
     "output_type": "stream",
     "text": [
      "WARNING:tensorflow:From C:\\Users\\mdmuz\\anaconda3\\envs\\Tensorflow\\lib\\site-packages\\tensorflow\\python\\training\\training_util.py:235: Variable.initialized_value (from tensorflow.python.ops.variables) is deprecated and will be removed in a future version.\n",
      "Instructions for updating:\n",
      "Use Variable.read_value. Variables in 2.X are initialized automatically both in eager and graph (inside tf.defun) contexts.\n",
      "INFO:tensorflow:Calling model_fn.\n",
      "WARNING:tensorflow:From C:\\Users\\mdmuz\\anaconda3\\envs\\Tensorflow\\lib\\site-packages\\keras\\optimizer_v2\\adagrad.py:83: calling Constant.__init__ (from tensorflow.python.ops.init_ops) with dtype is deprecated and will be removed in a future version.\n",
      "Instructions for updating:\n",
      "Call initializer instance with the dtype argument instead of passing it to the constructor\n",
      "INFO:tensorflow:Done calling model_fn.\n",
      "INFO:tensorflow:Create CheckpointSaverHook.\n",
      "INFO:tensorflow:Graph was finalized.\n",
      "INFO:tensorflow:Running local_init_op.\n",
      "INFO:tensorflow:Done running local_init_op.\n",
      "INFO:tensorflow:Calling checkpoint listeners before saving checkpoint 0...\n",
      "INFO:tensorflow:Saving checkpoints for 0 into C:\\Users\\mdmuz\\AppData\\Local\\Temp\\tmp_vfcb0_6\\model.ckpt.\n",
      "INFO:tensorflow:Calling checkpoint listeners after saving checkpoint 0...\n",
      "INFO:tensorflow:loss = 1.1034291, step = 0\n",
      "INFO:tensorflow:global_step/sec: 393.7\n",
      "INFO:tensorflow:loss = 1.0249889, step = 100 (0.254 sec)\n",
      "INFO:tensorflow:global_step/sec: 641.026\n",
      "INFO:tensorflow:loss = 1.0005023, step = 200 (0.157 sec)\n",
      "INFO:tensorflow:global_step/sec: 645.161\n",
      "INFO:tensorflow:loss = 0.97555935, step = 300 (0.155 sec)\n",
      "INFO:tensorflow:global_step/sec: 609.756\n",
      "INFO:tensorflow:loss = 0.9594125, step = 400 (0.163 sec)\n",
      "INFO:tensorflow:global_step/sec: 628.93\n",
      "INFO:tensorflow:loss = 0.9345096, step = 500 (0.160 sec)\n",
      "INFO:tensorflow:global_step/sec: 515.464\n",
      "INFO:tensorflow:loss = 0.91122895, step = 600 (0.194 sec)\n",
      "INFO:tensorflow:global_step/sec: 581.383\n",
      "INFO:tensorflow:loss = 0.8931062, step = 700 (0.172 sec)\n",
      "INFO:tensorflow:global_step/sec: 549.454\n",
      "INFO:tensorflow:loss = 0.86369854, step = 800 (0.181 sec)\n",
      "INFO:tensorflow:global_step/sec: 523.564\n",
      "INFO:tensorflow:loss = 0.84083176, step = 900 (0.192 sec)\n",
      "INFO:tensorflow:global_step/sec: 502.506\n",
      "INFO:tensorflow:loss = 0.8248273, step = 1000 (0.199 sec)\n",
      "INFO:tensorflow:global_step/sec: 485.439\n",
      "INFO:tensorflow:loss = 0.80794877, step = 1100 (0.206 sec)\n",
      "INFO:tensorflow:global_step/sec: 512.826\n",
      "INFO:tensorflow:loss = 0.7846582, step = 1200 (0.195 sec)\n",
      "INFO:tensorflow:global_step/sec: 613.499\n",
      "INFO:tensorflow:loss = 0.75991225, step = 1300 (0.163 sec)\n",
      "INFO:tensorflow:global_step/sec: 625.001\n",
      "INFO:tensorflow:loss = 0.7566261, step = 1400 (0.160 sec)\n",
      "INFO:tensorflow:global_step/sec: 645.163\n",
      "INFO:tensorflow:loss = 0.72689044, step = 1500 (0.155 sec)\n",
      "INFO:tensorflow:global_step/sec: 632.91\n",
      "INFO:tensorflow:loss = 0.7286334, step = 1600 (0.158 sec)\n",
      "INFO:tensorflow:global_step/sec: 653.595\n",
      "INFO:tensorflow:loss = 0.6827559, step = 1700 (0.153 sec)\n",
      "INFO:tensorflow:global_step/sec: 645.16\n",
      "INFO:tensorflow:loss = 0.6760748, step = 1800 (0.154 sec)\n",
      "INFO:tensorflow:global_step/sec: 653.587\n",
      "INFO:tensorflow:loss = 0.6618336, step = 1900 (0.154 sec)\n",
      "INFO:tensorflow:global_step/sec: 581.393\n",
      "INFO:tensorflow:loss = 0.64568913, step = 2000 (0.172 sec)\n",
      "INFO:tensorflow:global_step/sec: 390.627\n",
      "INFO:tensorflow:loss = 0.6379609, step = 2100 (0.256 sec)\n",
      "INFO:tensorflow:global_step/sec: 598.806\n",
      "INFO:tensorflow:loss = 0.6150314, step = 2200 (0.167 sec)\n",
      "INFO:tensorflow:global_step/sec: 645.161\n",
      "INFO:tensorflow:loss = 0.61533093, step = 2300 (0.154 sec)\n",
      "INFO:tensorflow:global_step/sec: 649.345\n",
      "INFO:tensorflow:loss = 0.5835828, step = 2400 (0.155 sec)\n",
      "INFO:tensorflow:global_step/sec: 652.922\n",
      "INFO:tensorflow:loss = 0.5693368, step = 2500 (0.153 sec)\n",
      "INFO:tensorflow:global_step/sec: 637.577\n",
      "INFO:tensorflow:loss = 0.5684427, step = 2600 (0.156 sec)\n",
      "INFO:tensorflow:global_step/sec: 645.173\n",
      "INFO:tensorflow:loss = 0.55240536, step = 2700 (0.156 sec)\n",
      "INFO:tensorflow:global_step/sec: 632.911\n",
      "INFO:tensorflow:loss = 0.54549396, step = 2800 (0.157 sec)\n",
      "INFO:tensorflow:global_step/sec: 613.489\n",
      "INFO:tensorflow:loss = 0.515861, step = 2900 (0.164 sec)\n",
      "INFO:tensorflow:global_step/sec: 645.17\n",
      "INFO:tensorflow:loss = 0.5170044, step = 3000 (0.154 sec)\n",
      "INFO:tensorflow:global_step/sec: 657.892\n",
      "INFO:tensorflow:loss = 0.49053013, step = 3100 (0.153 sec)\n",
      "INFO:tensorflow:global_step/sec: 649.351\n",
      "INFO:tensorflow:loss = 0.4947685, step = 3200 (0.154 sec)\n",
      "INFO:tensorflow:global_step/sec: 645.163\n",
      "INFO:tensorflow:loss = 0.48898637, step = 3300 (0.155 sec)\n",
      "INFO:tensorflow:global_step/sec: 555.555\n",
      "INFO:tensorflow:loss = 0.46940055, step = 3400 (0.180 sec)\n",
      "INFO:tensorflow:global_step/sec: 617.278\n",
      "INFO:tensorflow:loss = 0.47683927, step = 3500 (0.161 sec)\n",
      "INFO:tensorflow:global_step/sec: 641.027\n",
      "INFO:tensorflow:loss = 0.4615366, step = 3600 (0.156 sec)\n",
      "INFO:tensorflow:global_step/sec: 649.356\n",
      "INFO:tensorflow:loss = 0.4500323, step = 3700 (0.155 sec)\n",
      "INFO:tensorflow:global_step/sec: 505.045\n",
      "INFO:tensorflow:loss = 0.44323298, step = 3800 (0.198 sec)\n",
      "INFO:tensorflow:global_step/sec: 549.452\n",
      "INFO:tensorflow:loss = 0.42687076, step = 3900 (0.182 sec)\n",
      "INFO:tensorflow:global_step/sec: 507.593\n",
      "INFO:tensorflow:loss = 0.41630095, step = 4000 (0.197 sec)\n",
      "INFO:tensorflow:global_step/sec: 512.839\n",
      "INFO:tensorflow:loss = 0.41432637, step = 4100 (0.195 sec)\n",
      "INFO:tensorflow:global_step/sec: 483.095\n",
      "INFO:tensorflow:loss = 0.40769112, step = 4200 (0.207 sec)\n",
      "INFO:tensorflow:global_step/sec: 471.689\n",
      "INFO:tensorflow:loss = 0.39615196, step = 4300 (0.212 sec)\n",
      "INFO:tensorflow:global_step/sec: 510.219\n",
      "INFO:tensorflow:loss = 0.394839, step = 4400 (0.196 sec)\n",
      "INFO:tensorflow:global_step/sec: 510.198\n",
      "INFO:tensorflow:loss = 0.39256382, step = 4500 (0.197 sec)\n",
      "INFO:tensorflow:global_step/sec: 490.194\n",
      "INFO:tensorflow:loss = 0.37030777, step = 4600 (0.203 sec)\n",
      "INFO:tensorflow:global_step/sec: 473.939\n",
      "INFO:tensorflow:loss = 0.37004232, step = 4700 (0.212 sec)\n",
      "INFO:tensorflow:global_step/sec: 558.664\n",
      "INFO:tensorflow:loss = 0.365879, step = 4800 (0.178 sec)\n",
      "INFO:tensorflow:global_step/sec: 507.601\n",
      "INFO:tensorflow:loss = 0.34675792, step = 4900 (0.197 sec)\n",
      "INFO:tensorflow:Calling checkpoint listeners before saving checkpoint 5000...\n",
      "INFO:tensorflow:Saving checkpoints for 5000 into C:\\Users\\mdmuz\\AppData\\Local\\Temp\\tmp_vfcb0_6\\model.ckpt.\n",
      "INFO:tensorflow:Calling checkpoint listeners after saving checkpoint 5000...\n",
      "INFO:tensorflow:Loss for final step: 0.35178673.\n"
     ]
    },
    {
     "data": {
      "text/plain": [
       "<tensorflow_estimator.python.estimator.canned.dnn.DNNClassifierV2 at 0x1e1d9ea3e20>"
      ]
     },
     "execution_count": 11,
     "metadata": {},
     "output_type": "execute_result"
    }
   ],
   "source": [
    "classifier.train(input_fn = lambda: input_fn(train,train_y, training = True), steps = 5000)"
   ]
  },
  {
   "cell_type": "code",
   "execution_count": 12,
   "metadata": {},
   "outputs": [
    {
     "name": "stdout",
     "output_type": "stream",
     "text": [
      "INFO:tensorflow:Calling model_fn.\n",
      "INFO:tensorflow:Done calling model_fn.\n",
      "INFO:tensorflow:Starting evaluation at 2022-02-12T13:49:18\n",
      "INFO:tensorflow:Graph was finalized.\n",
      "INFO:tensorflow:Restoring parameters from C:\\Users\\mdmuz\\AppData\\Local\\Temp\\tmp_vfcb0_6\\model.ckpt-5000\n",
      "INFO:tensorflow:Running local_init_op.\n",
      "INFO:tensorflow:Done running local_init_op.\n",
      "INFO:tensorflow:Inference Time : 0.27899s\n",
      "INFO:tensorflow:Finished evaluation at 2022-02-12-13:49:18\n",
      "INFO:tensorflow:Saving dict for global step 5000: accuracy = 0.95, average_loss = 0.3542334, global_step = 5000, loss = 0.3542334\n",
      "INFO:tensorflow:Saving 'checkpoint_path' summary for global step 5000: C:\\Users\\mdmuz\\AppData\\Local\\Temp\\tmp_vfcb0_6\\model.ckpt-5000\n",
      "\n",
      "Test set accuracy: 0.950\n",
      "\n"
     ]
    }
   ],
   "source": [
    "eval_result = classifier.evaluate(input_fn = lambda: input_fn(test,test_y, training = False))\n",
    "print('\\nTest set accuracy: {accuracy:0.3f}\\n'.format(**eval_result))"
   ]
  },
  {
   "cell_type": "code",
   "execution_count": 19,
   "metadata": {},
   "outputs": [
    {
     "name": "stdout",
     "output_type": "stream",
     "text": [
      "Please type numeric values as prompted\n",
      "INFO:tensorflow:Calling model_fn.\n",
      "INFO:tensorflow:Done calling model_fn.\n",
      "INFO:tensorflow:Graph was finalized.\n",
      "INFO:tensorflow:Restoring parameters from C:\\Users\\mdmuz\\AppData\\Local\\Temp\\tmp_vfcb0_6\\model.ckpt-5000\n",
      "INFO:tensorflow:Running local_init_op.\n",
      "INFO:tensorflow:Done running local_init_op.\n",
      "{'logits': array([2.4939187, 0.9009034, 0.9152842], dtype=float32), 'probabilities': array([0.70943713, 0.14423685, 0.14632607], dtype=float32), 'class_ids': array([0], dtype=int64), 'classes': array([b'0'], dtype=object), 'all_class_ids': array([0, 1, 2]), 'all_classes': array([b'0', b'1', b'2'], dtype=object)}\n",
      "Prediction is \"Setosa\" (70.9%)\n"
     ]
    }
   ],
   "source": [
    "def input_Fn(features, batch_size=256):\n",
    "    return tf.data.Dataset.from_tensor_slices(dict(features)).batch(batch_size)\n",
    "\n",
    "features = ['SepalLength','SepalWidth','PetalLength','PetalWidth']\n",
    "predict = {} # create an empty dictionary\n",
    "\n",
    "print('Please type numeric values as prompted')\n",
    "for feature in features:\n",
    "    valid = True\n",
    "    while valid:\n",
    "        val = input(feature + \": \")\n",
    "        if not val.isdigit(): valid = False\n",
    "        \n",
    "    predict[feature] = [float(val)]\n",
    "    \n",
    "predictions = classifier.predict(input_fn = lambda: input_Fn(predict))\n",
    "\n",
    "for pred_dict in predictions:\n",
    "    print(pred_dict)\n",
    "    class_id = pred_dict['class_ids'][0]\n",
    "    probability = pred_dict['probabilities'][class_id]\n",
    "    \n",
    "    print('Prediction is \"{}\" ({:.1f}%)'.format(Species[class_id], 100*probability))"
   ]
  },
  {
   "cell_type": "code",
   "execution_count": null,
   "metadata": {},
   "outputs": [],
   "source": []
  }
 ],
 "metadata": {
  "interpreter": {
   "hash": "ab94b775a62fdbea9b01129be98a931afa8f9662937b4e98d45b18171ab1ae43"
  },
  "kernelspec": {
   "display_name": "Python 3.9.7 ('Tensorflow')",
   "language": "python",
   "name": "python3"
  },
  "language_info": {
   "codemirror_mode": {
    "name": "ipython",
    "version": 3
   },
   "file_extension": ".py",
   "mimetype": "text/x-python",
   "name": "python",
   "nbconvert_exporter": "python",
   "pygments_lexer": "ipython3",
   "version": "3.9.7"
  },
  "orig_nbformat": 4
 },
 "nbformat": 4,
 "nbformat_minor": 2
}
